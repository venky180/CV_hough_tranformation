{
 "cells": [
  {
   "cell_type": "code",
   "execution_count": 1,
   "id": "b024d535-028b-453e-b601-74c9d67dec89",
   "metadata": {},
   "outputs": [
    {
     "ename": "TypeError",
     "evalue": "'numpy.float64' object cannot be interpreted as an integer",
     "output_type": "error",
     "traceback": [
      "\u001b[0;31m---------------------------------------------------------------------------\u001b[0m",
      "\u001b[0;31mTypeError\u001b[0m                                 Traceback (most recent call last)",
      "Cell \u001b[0;32mIn[1], line 14\u001b[0m\n\u001b[1;32m     12\u001b[0m width, height \u001b[38;5;241m=\u001b[39m image\u001b[38;5;241m.\u001b[39msize\n\u001b[1;32m     13\u001b[0m diag_len \u001b[38;5;241m=\u001b[39m np\u001b[38;5;241m.\u001b[39mceil(np\u001b[38;5;241m.\u001b[39msqrt(width \u001b[38;5;241m*\u001b[39m width \u001b[38;5;241m+\u001b[39m height \u001b[38;5;241m*\u001b[39m height))  \u001b[38;5;66;03m# Maximum possible rho value\u001b[39;00m\n\u001b[0;32m---> 14\u001b[0m rho_vals \u001b[38;5;241m=\u001b[39m \u001b[43mnp\u001b[49m\u001b[38;5;241;43m.\u001b[39;49m\u001b[43mlinspace\u001b[49m\u001b[43m(\u001b[49m\u001b[38;5;241;43m-\u001b[39;49m\u001b[43mdiag_len\u001b[49m\u001b[43m,\u001b[49m\u001b[43m \u001b[49m\u001b[43mdiag_len\u001b[49m\u001b[43m,\u001b[49m\u001b[43m \u001b[49m\u001b[43mdiag_len\u001b[49m\u001b[43m \u001b[49m\u001b[38;5;241;43m*\u001b[39;49m\u001b[43m \u001b[49m\u001b[38;5;241;43m2\u001b[39;49m\u001b[43m \u001b[49m\u001b[38;5;241;43m/\u001b[39;49m\u001b[38;5;241;43m/\u001b[39;49m\u001b[43m \u001b[49m\u001b[43mrho_res\u001b[49m\u001b[43m \u001b[49m\u001b[38;5;241;43m+\u001b[39;49m\u001b[43m \u001b[49m\u001b[38;5;241;43m1\u001b[39;49m\u001b[43m)\u001b[49m\n\u001b[1;32m     16\u001b[0m \u001b[38;5;66;03m# Compute Hough Transform\u001b[39;00m\n\u001b[1;32m     17\u001b[0m accumulator \u001b[38;5;241m=\u001b[39m np\u001b[38;5;241m.\u001b[39mzeros((\u001b[38;5;28mlen\u001b[39m(rho_vals), \u001b[38;5;28mlen\u001b[39m(theta_vals)))\n",
      "File \u001b[0;32m<__array_function__ internals>:180\u001b[0m, in \u001b[0;36mlinspace\u001b[0;34m(*args, **kwargs)\u001b[0m\n",
      "File \u001b[0;32m~/miniconda/lib/python3.9/site-packages/numpy/core/function_base.py:120\u001b[0m, in \u001b[0;36mlinspace\u001b[0;34m(start, stop, num, endpoint, retstep, dtype, axis)\u001b[0m\n\u001b[1;32m     23\u001b[0m \u001b[38;5;129m@array_function_dispatch\u001b[39m(_linspace_dispatcher)\n\u001b[1;32m     24\u001b[0m \u001b[38;5;28;01mdef\u001b[39;00m \u001b[38;5;21mlinspace\u001b[39m(start, stop, num\u001b[38;5;241m=\u001b[39m\u001b[38;5;241m50\u001b[39m, endpoint\u001b[38;5;241m=\u001b[39m\u001b[38;5;28;01mTrue\u001b[39;00m, retstep\u001b[38;5;241m=\u001b[39m\u001b[38;5;28;01mFalse\u001b[39;00m, dtype\u001b[38;5;241m=\u001b[39m\u001b[38;5;28;01mNone\u001b[39;00m,\n\u001b[1;32m     25\u001b[0m              axis\u001b[38;5;241m=\u001b[39m\u001b[38;5;241m0\u001b[39m):\n\u001b[1;32m     26\u001b[0m     \u001b[38;5;124;03m\"\"\"\u001b[39;00m\n\u001b[1;32m     27\u001b[0m \u001b[38;5;124;03m    Return evenly spaced numbers over a specified interval.\u001b[39;00m\n\u001b[1;32m     28\u001b[0m \n\u001b[0;32m   (...)\u001b[0m\n\u001b[1;32m    118\u001b[0m \n\u001b[1;32m    119\u001b[0m \u001b[38;5;124;03m    \"\"\"\u001b[39;00m\n\u001b[0;32m--> 120\u001b[0m     num \u001b[38;5;241m=\u001b[39m \u001b[43moperator\u001b[49m\u001b[38;5;241;43m.\u001b[39;49m\u001b[43mindex\u001b[49m\u001b[43m(\u001b[49m\u001b[43mnum\u001b[49m\u001b[43m)\u001b[49m\n\u001b[1;32m    121\u001b[0m     \u001b[38;5;28;01mif\u001b[39;00m num \u001b[38;5;241m<\u001b[39m \u001b[38;5;241m0\u001b[39m:\n\u001b[1;32m    122\u001b[0m         \u001b[38;5;28;01mraise\u001b[39;00m \u001b[38;5;167;01mValueError\u001b[39;00m(\u001b[38;5;124m\"\u001b[39m\u001b[38;5;124mNumber of samples, \u001b[39m\u001b[38;5;132;01m%s\u001b[39;00m\u001b[38;5;124m, must be non-negative.\u001b[39m\u001b[38;5;124m\"\u001b[39m \u001b[38;5;241m%\u001b[39m num)\n",
      "\u001b[0;31mTypeError\u001b[0m: 'numpy.float64' object cannot be interpreted as an integer"
     ]
    }
   ],
   "source": [
    "from PIL import Image, ImageDraw\n",
    "import numpy as np\n",
    "\n",
    "# Load image and convert to grayscale\n",
    "image = Image.open(\"test.bmp\").convert(\"L\")\n",
    "\n",
    "# Define Hough Transform parameters\n",
    "theta_res = 1  # Theta resolution (in degrees)\n",
    "rho_res = 1  # Rho resolution (in pixels)\n",
    "threshold = 100  # Threshold for detecting a line\n",
    "theta_vals = np.deg2rad(np.arange(-90, 90, theta_res))\n",
    "width, height = image.size\n",
    "diag_len = np.ceil(np.sqrt(width * width + height * height))  # Maximum possible rho value\n",
    "rho_vals = np.linspace(-diag_len, diag_len, int(diag_len * 2 // rho_res + 1))\n",
    "\n",
    "# Compute Hough Transform\n",
    "accumulator = np.zeros((len(rho_vals), len(theta_vals)))\n",
    "y_idxs, x_idxs = np.nonzero(image)  # Indices of non-zero pixels in the image\n",
    "for i in range(len(x_idxs)):\n",
    "    x = x_idxs[i]\n",
    "    y = y_idxs[i]\n",
    "    for j in range(len(theta_vals)):\n",
    "        rho = x * np.cos(theta_vals[j]) + y * np.sin(theta_vals[j])\n",
    "        rho_idx = np.argmin(np.abs(rho_vals - rho))\n",
    "        accumulator[rho_idx, j] += 1\n",
    "\n",
    "# Find lines in the image using Hough Transform peaks\n",
    "peak_idxs = np.argwhere(accumulator > threshold)\n",
    "lines = []\n",
    "for i in range(len(peak_idxs)):\n",
    "    rho_idx, theta_idx = peak_idxs[i]\n",
    "    rho = rho_vals[rho_idx]\n",
    "    theta = theta_vals[theta_idx]\n",
    "    a = np.cos(theta)\n",
    "    b = np.sin(theta)\n",
    "    x0 = a * rho\n",
    "    y0 = b * rho\n",
    "    x1 = int(x0 + 1000 * (-b))\n",
    "    y1 = int(y0 + 1000 * (a))\n",
    "    x2 = int(x0 - 1000 * (-b))\n",
    "    y2 = int(y0 - 1000 * (a))\n",
    "    lines.append((x1, y1, x2, y2))\n",
    "\n",
    "# Draw lines on the image\n",
    "draw = ImageDraw.Draw(image)\n",
    "for line in lines:\n",
    "    draw.line(line, fill=\"red\", width=2)\n",
    "\n",
    "# Show and save output image\n",
    "image.show()\n",
    "image.save(\"output_image.jpg\")"
   ]
  }
 ],
 "metadata": {
  "kernelspec": {
   "display_name": "Python 3 (ipykernel)",
   "language": "python",
   "name": "python3"
  },
  "language_info": {
   "codemirror_mode": {
    "name": "ipython",
    "version": 3
   },
   "file_extension": ".py",
   "mimetype": "text/x-python",
   "name": "python",
   "nbconvert_exporter": "python",
   "pygments_lexer": "ipython3",
   "version": "3.9.12"
  }
 },
 "nbformat": 4,
 "nbformat_minor": 5
}
